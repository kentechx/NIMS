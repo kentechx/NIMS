{
 "cells": [
  {
   "cell_type": "code",
   "execution_count": 2,
   "id": "12922acd",
   "metadata": {},
   "outputs": [
    {
     "name": "stderr",
     "output_type": "stream",
     "text": [
      "\n",
      "Attaching package: ‘igraph’\n",
      "\n",
      "The following objects are masked from ‘package:stats’:\n",
      "\n",
      "    decompose, spectrum\n",
      "\n",
      "The following object is masked from ‘package:base’:\n",
      "\n",
      "    union\n",
      "\n",
      "Loading required package: grid\n",
      "\n",
      "Attaching package: ‘SuperExactTest’\n",
      "\n",
      "The following object is masked from ‘package:igraph’:\n",
      "\n",
      "    union\n",
      "\n",
      "The following objects are masked from ‘package:base’:\n",
      "\n",
      "    intersect, union\n",
      "\n"
     ]
    }
   ],
   "source": [
    "library(igraph)\n",
    "library(numbers)\n",
    "library(SuperExactTest)"
   ]
  },
  {
   "cell_type": "markdown",
   "id": "d47ea149",
   "metadata": {},
   "source": [
    "# Paper"
   ]
  },
  {
   "cell_type": "code",
   "execution_count": 2,
   "id": "43703605",
   "metadata": {},
   "outputs": [],
   "source": [
    "load(url(\"https://ndownloader.figshare.com/files/23552735\"))"
   ]
  },
  {
   "cell_type": "code",
   "execution_count": 3,
   "id": "a15c5b69",
   "metadata": {},
   "outputs": [
    {
     "name": "stdout",
     "output_type": "stream",
     "text": [
      "[1] \"Homo_skull\"\n",
      "IGRAPH 1f38b7c UN-- 21 64 -- \n",
      "+ attr: name (v/c)\n",
      "+ edges from 1f38b7c (vertex names):\n",
      " [1] Occipital     --Parietal.Left   Occipital     --Parietal.Right \n",
      " [3] Occipital     --Temporal.Left   Occipital     --Temporal.Right \n",
      " [5] Occipital     --Sphenoidal      Parietal.Left --Parietal.Right \n",
      " [7] Parietal.Left --Temporal.Left   Parietal.Left --Sphenoidal     \n",
      " [9] Parietal.Left --Frontal         Parietal.Right--Temporal.Right \n",
      "[11] Parietal.Right--Sphenoidal      Parietal.Right--Frontal        \n",
      "[13] Temporal.Left --Sphenoidal      Temporal.Left --Zygomatic.Left \n",
      "[15] Temporal.Right--Sphenoidal      Temporal.Right--Zygomatic.Right\n",
      "+ ... omitted several edges\n",
      "[1] \"Homo_skull_variation\"\n",
      "IGRAPH 1f38deb UN-- 22 66 -- \n",
      "+ attr: name (v/c)\n",
      "+ edges from 1f38deb (vertex names):\n",
      " [1] Wormian       --Occipital       Wormian       --Parietal.Left  \n",
      " [3] Occipital     --Parietal.Left   Occipital     --Parietal.Right \n",
      " [5] Occipital     --Temporal.Left   Occipital     --Temporal.Right \n",
      " [7] Occipital     --Sphenoidal      Parietal.Left --Parietal.Right \n",
      " [9] Parietal.Left --Temporal.Left   Parietal.Left --Sphenoidal     \n",
      "[11] Parietal.Left --Frontal         Parietal.Right--Temporal.Right \n",
      "[13] Parietal.Right--Frontal         Temporal.Left --Sphenoidal     \n",
      "[15] Temporal.Left --Zygomatic.Left  Temporal.Right--Sphenoidal     \n",
      "+ ... omitted several edges\n",
      "[1] \"Nothura_skull\"\n",
      "IGRAPH 1f3905c UN-- 6 9 -- \n",
      "+ attr: name (v/c)\n",
      "+ edges from 1f3905c (vertex names):\n",
      "[1] R.Jugal.Bar--R.Quadrate R.Jugal.Bar--Upper.Beak R.Jugal.Bar--Braincase \n",
      "[4] L.Jugal.Bar--L.Quadrate L.Jugal.Bar--Upper.Beak L.Jugal.Bar--Braincase \n",
      "[7] R.Quadrate --Braincase  L.Quadrate --Braincase  Upper.Beak --Braincase \n",
      "[1] \"Crocodylus_skull\"\n",
      "IGRAPH 1f3953a UN-- 37 103 -- \n",
      "+ attr: name (v/c)\n",
      "+ edges from 1f3953a (vertex names):\n",
      " [1] R.Premaxilla--L.Premaxilla    R.Premaxilla--R.Maxilla      \n",
      " [3] R.Premaxilla--R.Nasal         L.Premaxilla--L.Maxilla      \n",
      " [5] L.Premaxilla--L.Nasal         R.Maxilla   --L.Maxilla      \n",
      " [7] R.Maxilla   --R.Nasal         R.Maxilla   --R.Lacrimal     \n",
      " [9] R.Maxilla   --R.Jugal         R.Maxilla   --R.Vomer        \n",
      "[11] R.Maxilla   --Palatine        R.Maxilla   --R.Ectopterygoid\n",
      "[13] L.Maxilla   --L.Nasal         L.Maxilla   --L.Lacrimal     \n",
      "[15] L.Maxilla   --L.Jugal         L.Maxilla   --L.Vomer        \n",
      "+ ... omitted several edges\n"
     ]
    }
   ],
   "source": [
    "for (i in 1: length(networks)){print(networks[i]); print(graph.list[[i]])}"
   ]
  },
  {
   "cell_type": "code",
   "execution_count": 105,
   "id": "4d8c98f8",
   "metadata": {},
   "outputs": [
    {
     "name": "stdout",
     "output_type": "stream",
     "text": [
      "$Occipital\n",
      "[1] \"Occipital\"       \"Parietal.Left\"   \"Parietal.Right\"  \"Temporal.Left\"  \n",
      "[5] \"Temporal.Right\"  \"Sphenoidal\"      \"Zygomatic.Right\" \"Zygomatic.Left\" \n",
      "[9] \"Frontal\"        \n",
      "\n",
      "$Sphenoidal\n",
      " [1] \"Sphenoidal\"      \"Occipital\"       \"Parietal.Left\"   \"Parietal.Right\" \n",
      " [5] \"Temporal.Left\"   \"Temporal.Right\"  \"Zygomatic.Left\"  \"Zygomatic.Right\"\n",
      " [9] \"Palatine.Left\"   \"Palatine.Right\"  \"Vomer\"          \n",
      "\n",
      "$Frontal\n",
      " [1] \"Frontal\"            \"Ethmoidal\"          \"Nasal.Left\"        \n",
      " [4] \"Nasal.Right\"        \"Maxilla.Left\"       \"Maxilla.Right\"     \n",
      " [7] \"Lacrimal.Left\"      \"Lacrimal.Right\"     \"Nasal.Concha.Right\"\n",
      "[10] \"Nasal.Concha.Left\" \n",
      "\n",
      "$Ethmoidal\n",
      " [1] \"Ethmoidal\"          \"Nasal.Left\"         \"Nasal.Right\"       \n",
      " [4] \"Maxilla.Left\"       \"Maxilla.Right\"      \"Lacrimal.Left\"     \n",
      " [7] \"Lacrimal.Right\"     \"Palatine.Left\"      \"Palatine.Right\"    \n",
      "[10] \"Nasal.Concha.Left\"  \"Nasal.Concha.Right\" \"Vomer\"             \n",
      "\n"
     ]
    }
   ],
   "source": [
    "# find node-based modules\n",
    "g<-graph.list[[1]]\n",
    "mod<-list()\n",
    "for (i in 1:vcount(g)){\n",
    "    m<-cluster_spinglass(g, vertex=i)\n",
    "    mod[[i]]<-V(g)$name[m$community]\n",
    "}\n",
    "names(mod)<-V(g)$name\n",
    "\n",
    "# filter out redundancies\n",
    "clean_mod<-mod\n",
    "for (i in 1:(length(clean_mod)-1)){\n",
    "    j<-i+1\n",
    "    while (j<=length(clean_mod)){\n",
    "        if (setequal(clean_mod[[i]], clean_mod[[j]])==TRUE){clean_mod[[j]]<-NA} # if i == j\n",
    "        if (all(is.element(clean_mod[[i]], clean_mod[[j]]))==TRUE) {clean_mod[[i]]<-NA}  # if i belongs j\n",
    "        if (all(is.element(clean_mod[[j]], clean_mod[[i]]))==TRUE) {clean_mod[[j]]<-NA} # if j belongs i\n",
    "        j<-j+1\n",
    "    }\n",
    "}\n",
    "\n",
    "clean_mod<-clean_mod[!is.na(clean_mod)]\n",
    "print(clean_mod)"
   ]
  },
  {
   "cell_type": "code",
   "execution_count": 159,
   "id": "2495605d",
   "metadata": {},
   "outputs": [
    {
     "data": {
      "text/html": [
       "<pre class=language-r><code>function (name, pos = -1L, envir = as.environment(pos), all.names = FALSE, \n",
       "<span style=white-space:pre-wrap>    pattern, sorted = TRUE) </span>\n",
       "{\n",
       "<span style=white-space:pre-wrap>    if (!missing(name)) {</span>\n",
       "<span style=white-space:pre-wrap>        pos &lt;- tryCatch(name, error = function(e) e)</span>\n",
       "<span style=white-space:pre-wrap>        if (inherits(pos, \"error\")) {</span>\n",
       "<span style=white-space:pre-wrap>            name &lt;- substitute(name)</span>\n",
       "<span style=white-space:pre-wrap>            if (!is.character(name)) </span>\n",
       "<span style=white-space:pre-wrap>                name &lt;- deparse(name)</span>\n",
       "<span style=white-space:pre-wrap>            warning(gettextf(\"%s converted to character string\", </span>\n",
       "<span style=white-space:pre-wrap>                sQuote(name)), domain = NA)</span>\n",
       "<span style=white-space:pre-wrap>            pos &lt;- name</span>\n",
       "<span style=white-space:pre-wrap>        }</span>\n",
       "<span style=white-space:pre-wrap>    }</span>\n",
       "<span style=white-space:pre-wrap>    all.names &lt;- .Internal(ls(envir, all.names, sorted))</span>\n",
       "<span style=white-space:pre-wrap>    if (!missing(pattern)) {</span>\n",
       "<span style=white-space:pre-wrap>        if ((ll &lt;- length(grep(\"[\", pattern, fixed = TRUE))) &amp;&amp; </span>\n",
       "<span style=white-space:pre-wrap>            ll != length(grep(\"]\", pattern, fixed = TRUE))) {</span>\n",
       "<span style=white-space:pre-wrap>            if (pattern == \"[\") {</span>\n",
       "<span style=white-space:pre-wrap>                pattern &lt;- \"\\\\[\"</span>\n",
       "<span style=white-space:pre-wrap>                warning(\"replaced regular expression pattern '[' by  '\\\\\\\\['\")</span>\n",
       "<span style=white-space:pre-wrap>            }</span>\n",
       "<span style=white-space:pre-wrap>            else if (length(grep(\"[^\\\\\\\\]\\\\[&lt;-\", pattern))) {</span>\n",
       "<span style=white-space:pre-wrap>                pattern &lt;- sub(\"\\\\[&lt;-\", \"\\\\\\\\\\\\[&lt;-\", pattern)</span>\n",
       "<span style=white-space:pre-wrap>                warning(\"replaced '[&lt;-' by '\\\\\\\\[&lt;-' in regular expression pattern\")</span>\n",
       "<span style=white-space:pre-wrap>            }</span>\n",
       "<span style=white-space:pre-wrap>        }</span>\n",
       "<span style=white-space:pre-wrap>        grep(pattern, all.names, value = TRUE)</span>\n",
       "<span style=white-space:pre-wrap>    }</span>\n",
       "<span style=white-space:pre-wrap>    else all.names</span>\n",
       "}</code></pre>"
      ],
      "text/latex": [
       "\\begin{minted}{r}\n",
       "function (name, pos = -1L, envir = as.environment(pos), all.names = FALSE, \n",
       "    pattern, sorted = TRUE) \n",
       "\\{\n",
       "    if (!missing(name)) \\{\n",
       "        pos <- tryCatch(name, error = function(e) e)\n",
       "        if (inherits(pos, \"error\")) \\{\n",
       "            name <- substitute(name)\n",
       "            if (!is.character(name)) \n",
       "                name <- deparse(name)\n",
       "            warning(gettextf(\"\\%s converted to character string\", \n",
       "                sQuote(name)), domain = NA)\n",
       "            pos <- name\n",
       "        \\}\n",
       "    \\}\n",
       "    all.names <- .Internal(ls(envir, all.names, sorted))\n",
       "    if (!missing(pattern)) \\{\n",
       "        if ((ll <- length(grep(\"{[}\", pattern, fixed = TRUE))) \\&\\& \n",
       "            ll != length(grep(\"{]}\", pattern, fixed = TRUE))) \\{\n",
       "            if (pattern == \"{[}\") \\{\n",
       "                pattern <- \"\\textbackslash{}\\textbackslash{}{[}\"\n",
       "                warning(\"replaced regular expression pattern '{[}' by  '\\textbackslash{}\\textbackslash{}\\textbackslash{}\\textbackslash{}{[}'\")\n",
       "            \\}\n",
       "            else if (length(grep(\"{[}\\textasciicircum{}\\textbackslash{}\\textbackslash{}\\textbackslash{}\\textbackslash{}{]}\\textbackslash{}\\textbackslash{}{[}<-\", pattern))) \\{\n",
       "                pattern <- sub(\"\\textbackslash{}\\textbackslash{}{[}<-\", \"\\textbackslash{}\\textbackslash{}\\textbackslash{}\\textbackslash{}\\textbackslash{}\\textbackslash{}{[}<-\", pattern)\n",
       "                warning(\"replaced '{[}<-' by '\\textbackslash{}\\textbackslash{}\\textbackslash{}\\textbackslash{}{[}<-' in regular expression pattern\")\n",
       "            \\}\n",
       "        \\}\n",
       "        grep(pattern, all.names, value = TRUE)\n",
       "    \\}\n",
       "    else all.names\n",
       "\\}\n",
       "\\end{minted}"
      ],
      "text/markdown": [
       "```r\n",
       "function (name, pos = -1L, envir = as.environment(pos), all.names = FALSE, \n",
       "    pattern, sorted = TRUE) \n",
       "{\n",
       "    if (!missing(name)) {\n",
       "        pos <- tryCatch(name, error = function(e) e)\n",
       "        if (inherits(pos, \"error\")) {\n",
       "            name <- substitute(name)\n",
       "            if (!is.character(name)) \n",
       "                name <- deparse(name)\n",
       "            warning(gettextf(\"%s converted to character string\", \n",
       "                sQuote(name)), domain = NA)\n",
       "            pos <- name\n",
       "        }\n",
       "    }\n",
       "    all.names <- .Internal(ls(envir, all.names, sorted))\n",
       "    if (!missing(pattern)) {\n",
       "        if ((ll <- length(grep(\"[\", pattern, fixed = TRUE))) && \n",
       "            ll != length(grep(\"]\", pattern, fixed = TRUE))) {\n",
       "            if (pattern == \"[\") {\n",
       "                pattern <- \"\\\\[\"\n",
       "                warning(\"replaced regular expression pattern '[' by  '\\\\\\\\['\")\n",
       "            }\n",
       "            else if (length(grep(\"[^\\\\\\\\]\\\\[<-\", pattern))) {\n",
       "                pattern <- sub(\"\\\\[<-\", \"\\\\\\\\\\\\[<-\", pattern)\n",
       "                warning(\"replaced '[<-' by '\\\\\\\\[<-' in regular expression pattern\")\n",
       "            }\n",
       "        }\n",
       "        grep(pattern, all.names, value = TRUE)\n",
       "    }\n",
       "    else all.names\n",
       "}\n",
       "```"
      ],
      "text/plain": [
       "function (name, pos = -1L, envir = as.environment(pos), all.names = FALSE, \n",
       "    pattern, sorted = TRUE) \n",
       "{\n",
       "    if (!missing(name)) {\n",
       "        pos <- tryCatch(name, error = function(e) e)\n",
       "        if (inherits(pos, \"error\")) {\n",
       "            name <- substitute(name)\n",
       "            if (!is.character(name)) \n",
       "                name <- deparse(name)\n",
       "            warning(gettextf(\"%s converted to character string\", \n",
       "                sQuote(name)), domain = NA)\n",
       "            pos <- name\n",
       "        }\n",
       "    }\n",
       "    all.names <- .Internal(ls(envir, all.names, sorted))\n",
       "    if (!missing(pattern)) {\n",
       "        if ((ll <- length(grep(\"[\", pattern, fixed = TRUE))) && \n",
       "            ll != length(grep(\"]\", pattern, fixed = TRUE))) {\n",
       "            if (pattern == \"[\") {\n",
       "                pattern <- \"\\\\[\"\n",
       "                warning(\"replaced regular expression pattern '[' by  '\\\\\\\\['\")\n",
       "            }\n",
       "            else if (length(grep(\"[^\\\\\\\\]\\\\[<-\", pattern))) {\n",
       "                pattern <- sub(\"\\\\[<-\", \"\\\\\\\\\\\\[<-\", pattern)\n",
       "                warning(\"replaced '[<-' by '\\\\\\\\[<-' in regular expression pattern\")\n",
       "            }\n",
       "        }\n",
       "        grep(pattern, all.names, value = TRUE)\n",
       "    }\n",
       "    else all.names\n",
       "}\n",
       "<bytecode: 0x55fecd6beb30>\n",
       "<environment: namespace:base>"
      ]
     },
     "metadata": {},
     "output_type": "display_data"
    }
   ],
   "source": [
    "ls"
   ]
  },
  {
   "cell_type": "code",
   "execution_count": 128,
   "id": "ee033657",
   "metadata": {
    "scrolled": false
   },
   "outputs": [
    {
     "data": {
      "image/png": "[encoded data removed]",
      "text/plain": [
       "plot without title"
      ]
     },
     "metadata": {},
     "output_type": "display_data"
    }
   ],
   "source": [
    "# check overloap between node-based modules\n",
    "res<-supertest(clean_mod,n=vcount(g), degree = c(2:length(clean_mod)))\n",
    "pcorrect<-(0.05/(bell(length(clean_mod))-length(clean_mod)))\n",
    "\n",
    "plot(res, sort.by = 'p-value', degree = c(2:length(clean_mod)),\n",
    "    Layout='landscape', keep.empty.intersections=FALSE,min.intersection.size=1,\n",
    "    minMinusLog10PValue=abs(log10(pcorrect)))"
   ]
  },
  {
   "cell_type": "code",
   "execution_count": 131,
   "id": "56dd204b",
   "metadata": {},
   "outputs": [
    {
     "name": "stdout",
     "output_type": "stream",
     "text": [
      " [1] \"Ethmoidal\"          \"Frontal\"            \"Lacrimal.Left\"     \n",
      " [4] \"Lacrimal.Right\"     \"Maxilla.Left\"       \"Maxilla.Right\"     \n",
      " [7] \"Nasal.Concha.Left\"  \"Nasal.Concha.Right\" \"Nasal.Left\"        \n",
      "[10] \"Nasal.Right\"        \"Palatine.Left\"      \"Palatine.Right\"    \n",
      "[13] \"Vomer\"             \n"
     ]
    }
   ],
   "source": [
    "# details\n",
    "facial<-sort(unique(c(clean_mod$Ethmoidal, clean_mod$Frontal)))\n",
    "cranial<-sort(unique(c(clean_mod$Sphenoidal, clean_mod$Occipital)))\n",
    "print(facial)"
   ]
  },
  {
   "cell_type": "code",
   "execution_count": 133,
   "id": "ac2a0749",
   "metadata": {},
   "outputs": [
    {
     "name": "stdout",
     "output_type": "stream",
     "text": [
      " [1] \"Frontal\"         \"Occipital\"       \"Palatine.Left\"   \"Palatine.Right\" \n",
      " [5] \"Parietal.Left\"   \"Parietal.Right\"  \"Sphenoidal\"      \"Temporal.Left\"  \n",
      " [9] \"Temporal.Right\"  \"Vomer\"           \"Zygomatic.Left\"  \"Zygomatic.Right\"\n"
     ]
    }
   ],
   "source": [
    "print(cranial)"
   ]
  },
  {
   "cell_type": "code",
   "execution_count": 134,
   "id": "aa4d6e73",
   "metadata": {},
   "outputs": [
    {
     "name": "stdout",
     "output_type": "stream",
     "text": [
      "[1] \"Frontal\"        \"Palatine.Left\"  \"Palatine.Right\" \"Vomer\"         \n"
     ]
    }
   ],
   "source": [
    "print(intersect(facial, cranial))"
   ]
  },
  {
   "cell_type": "code",
   "execution_count": 154,
   "id": "17baad3f",
   "metadata": {},
   "outputs": [
    {
     "name": "stderr",
     "output_type": "stream",
     "text": [
      "Warning message in wilcox.test.default(in.links, out.links, alternative = \"greater\"):\n",
      "“cannot compute exact p-value with ties”"
     ]
    },
    {
     "name": "stdout",
     "output_type": "stream",
     "text": [
      "[1] \"Facial module\"\n"
     ]
    }
   ],
   "source": [
    "# testing\n",
    "vids<-c(1:vcount(g))[is.element(V(g)$name, facial)]\n",
    "in.links<-degree(induced_subgraph(g, vids))\n",
    "out.links<-degree(g, vids)-in.links\n",
    "res<-wilcox.test(in.links, out.links, alternative=\"greater\")\n",
    "print(\"Facial module\")"
   ]
  },
  {
   "cell_type": "code",
   "execution_count": 155,
   "id": "ff056966",
   "metadata": {},
   "outputs": [
    {
     "name": "stdout",
     "output_type": "stream",
     "text": [
      "\n",
      "\tWilcoxon rank sum test with continuity correction\n",
      "\n",
      "data:  in.links and out.links\n",
      "W = 161.5, p-value = 3.124e-05\n",
      "alternative hypothesis: true location shift is greater than 0\n",
      "\n"
     ]
    }
   ],
   "source": [
    "print(res)"
   ]
  },
  {
   "cell_type": "code",
   "execution_count": 150,
   "id": "964a916b",
   "metadata": {},
   "outputs": [
    {
     "data": {
      "text/html": [
       "<strong>Occipital:</strong> 5"
      ],
      "text/latex": [
       "\\textbf{Occipital:} 5"
      ],
      "text/markdown": [
       "**Occipital:** 5"
      ],
      "text/plain": [
       "Occipital \n",
       "        5 "
      ]
     },
     "metadata": {},
     "output_type": "display_data"
    }
   ],
   "source": []
  },
  {
   "cell_type": "markdown",
   "id": "7df9e749",
   "metadata": {},
   "source": [
    "# Our data"
   ]
  },
  {
   "cell_type": "code",
   "execution_count": 17,
   "id": "2ce5e895",
   "metadata": {},
   "outputs": [
    {
     "data": {
      "text/plain": [
       "IGRAPH dd9c5a6 UN-- 245 686 -- \n",
       "+ attr: name (v/c)\n",
       "+ edges from dd9c5a6 (vertex names):\n",
       " [1] 左嗅觉细胞（嗅觉粘膜）--左嗅脑                \n",
       " [2] 右嗅觉细胞（嗅觉粘膜）--右嗅脑                \n",
       " [3] 左侧左半视网膜        --右丘脑外侧膝状体      \n",
       " [4] 左侧右半视网膜        --左丘脑外侧膝状体      \n",
       " [5] 右丘脑外侧膝状体      --右侧左半视网膜        \n",
       " [6] 左丘脑外侧膝状体      --右侧右半视网膜        \n",
       " [7] 左丘脑外侧膝状体      --左上丘                \n",
       " [8] 右丘脑外侧膝状体      --右上丘                \n",
       "+ ... omitted several edges"
      ]
     },
     "metadata": {},
     "output_type": "display_data"
    }
   ],
   "source": [
    "g<-read_graph(\"a.lgl\", format='lgl')\n",
    "g"
   ]
  },
  {
   "cell_type": "code",
   "execution_count": 14,
   "id": "82db771a",
   "metadata": {},
   "outputs": [
    {
     "ename": "ERROR",
     "evalue": "Error in cluster_spinglass(g, vertex = i): At clustertool.cpp:534 : Cannot work with unconnected graph, Invalid value\n",
     "output_type": "error",
     "traceback": [
      "Error in cluster_spinglass(g, vertex = i): At clustertool.cpp:534 : Cannot work with unconnected graph, Invalid value\nTraceback:\n",
      "1. cluster_spinglass(g, vertex = i)"
     ]
    }
   ],
   "source": [
    "# find node-based modules\n",
    "mod<-list()\n",
    "for (i in 1:vcount(g)){\n",
    "    m<-cluster_spinglass(g, vertex=i)\n",
    "    mod[[i]]<-V(g)$name[m$community]\n",
    "}\n",
    "names(mod)<-V(g)$name\n",
    "\n",
    "# filter out redundancies\n",
    "clean_mod<-mod\n",
    "for (i in 1:(length(clean_mod)-1)){\n",
    "    j<-i+1\n",
    "    while (j<=length(clean_mod)){\n",
    "        if (setequal(clean_mod[[i]], clean_mod[[j]])==TRUE){clean_mod[[j]]<-NA} # if i == j\n",
    "        if (all(is.element(clean_mod[[i]], clean_mod[[j]]))==TRUE) {clean_mod[[i]]<-NA}  # if i belongs j\n",
    "        if (all(is.element(clean_mod[[j]], clean_mod[[i]]))==TRUE) {clean_mod[[j]]<-NA} # if j belongs i\n",
    "        j<-j+1\n",
    "    }\n",
    "}\n",
    "\n",
    "clean_mod<-clean_mod[!is.na(clean_mod)]\n",
    "print(clean_mod)"
   ]
  },
  {
   "cell_type": "code",
   "execution_count": 19,
   "id": "9f6d410b",
   "metadata": {},
   "outputs": [
    {
     "ename": "ERROR",
     "evalue": "Error in cluster_spinglass(g, vertex = 1): At clustertool.cpp:534 : Cannot work with unconnected graph, Invalid value\n",
     "output_type": "error",
     "traceback": [
      "Error in cluster_spinglass(g, vertex = 1): At clustertool.cpp:534 : Cannot work with unconnected graph, Invalid value\nTraceback:\n",
      "1. cluster_spinglass(g, vertex = 1)"
     ]
    }
   ],
   "source": [
    "cluster_spinglass(g, vertex=1)"
   ]
  },
  {
   "cell_type": "code",
   "execution_count": null,
   "id": "63bd602b",
   "metadata": {},
   "outputs": [],
   "source": []
  }
 ],
 "metadata": {
  "kernelspec": {
   "display_name": "R",
   "language": "R",
   "name": "ir"
  },
  "language_info": {
   "codemirror_mode": "r",
   "file_extension": ".r",
   "mimetype": "text/x-r-source",
   "name": "R",
   "pygments_lexer": "r",
   "version": "3.6.1"
  }
 },
 "nbformat": 4,
 "nbformat_minor": 5
}
